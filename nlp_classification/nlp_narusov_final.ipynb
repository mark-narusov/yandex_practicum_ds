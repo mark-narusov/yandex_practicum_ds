{
  "cells": [
    {
      "cell_type": "markdown",
      "metadata": {
        "id": "view-in-github",
        "colab_type": "text"
      },
      "source": [
        "<a href=\"https://colab.research.google.com/github/mark-narusov/yandex_practicum_ds/blob/main/nlp_classification/nlp_narusov_final.ipynb\" target=\"_parent\"><img src=\"https://colab.research.google.com/assets/colab-badge.svg\" alt=\"Open In Colab\"/></a>"
      ]
    },
    {
      "cell_type": "markdown",
      "metadata": {
        "toc": true,
        "id": "K8eFDQILImj3"
      },
      "source": [
        "<h1>Содержание<span class=\"tocSkip\"></span></h1>\n",
        "<div class=\"toc\"><ul class=\"toc-item\"><li><span><a href=\"#Введение\" data-toc-modified-id=\"Введение-1\"><span class=\"toc-item-num\">1&nbsp;&nbsp;</span>Введение</a></span></li><li><span><a href=\"#Импорт-библиотек\" data-toc-modified-id=\"Импорт-библиотек-2\"><span class=\"toc-item-num\">2&nbsp;&nbsp;</span>Импорт библиотек</a></span></li><li><span><a href=\"#Предобработка-датафрейма\" data-toc-modified-id=\"Предобработка-датафрейма-3\"><span class=\"toc-item-num\">3&nbsp;&nbsp;</span>Предобработка датафрейма</a></span></li><li><span><a href=\"#Предобработка-текста\" data-toc-modified-id=\"Предобработка-текста-4\"><span class=\"toc-item-num\">4&nbsp;&nbsp;</span>Предобработка текста</a></span></li><li><span><a href=\"#Разбиение-на-выборки\" data-toc-modified-id=\"Разбиение-на-выборки-5\"><span class=\"toc-item-num\">5&nbsp;&nbsp;</span>Разбиение на выборки</a></span></li><li><span><a href=\"#Подбор-метода-цифровизации-текста\" data-toc-modified-id=\"Подбор-метода-цифровизации-текста-6\"><span class=\"toc-item-num\">6&nbsp;&nbsp;</span>Подбор метода цифровизации текста</a></span><ul class=\"toc-item\"><li><span><a href=\"#Мешок-слов\" data-toc-modified-id=\"Мешок-слов-6.1\"><span class=\"toc-item-num\">6.1&nbsp;&nbsp;</span>Мешок слов</a></span></li><li><span><a href=\"#Биграммы\" data-toc-modified-id=\"Биграммы-6.2\"><span class=\"toc-item-num\">6.2&nbsp;&nbsp;</span>Биграммы</a></span></li><li><span><a href=\"#TF-IDF\" data-toc-modified-id=\"TF-IDF-6.3\"><span class=\"toc-item-num\">6.3&nbsp;&nbsp;</span><code>TF-IDF</code></a></span></li></ul></li><li><span><a href=\"#Подбор-модели-и-гиперпараметров\" data-toc-modified-id=\"Подбор-модели-и-гиперпараметров-7\"><span class=\"toc-item-num\">7&nbsp;&nbsp;</span>Подбор модели и гиперпараметров</a></span><ul class=\"toc-item\"><li><span><a href=\"#Логистическая-регрессия\" data-toc-modified-id=\"Логистическая-регрессия-7.1\"><span class=\"toc-item-num\">7.1&nbsp;&nbsp;</span>Логистическая регрессия</a></span></li><li><span><a href=\"#Catboost\" data-toc-modified-id=\"Catboost-7.2\"><span class=\"toc-item-num\">7.2&nbsp;&nbsp;</span><em>Catboost</em></a></span><ul class=\"toc-item\"><li><span><a href=\"#text_features\" data-toc-modified-id=\"text_features-7.2.1\"><span class=\"toc-item-num\">7.2.1&nbsp;&nbsp;</span><code>text_features</code></a></span></li><li><span><a href=\"#Мешок-слов\" data-toc-modified-id=\"Мешок-слов-7.2.2\"><span class=\"toc-item-num\">7.2.2&nbsp;&nbsp;</span>Мешок слов</a></span></li><li><span><a href=\"#Подбор-learning_rate\" data-toc-modified-id=\"Подбор-learning_rate-7.2.3\"><span class=\"toc-item-num\">7.2.3&nbsp;&nbsp;</span>Подбор <code>learning_rate</code></a></span></li></ul></li></ul></li><li><span><a href=\"#Подбор-порога\" data-toc-modified-id=\"Подбор-порога-8\"><span class=\"toc-item-num\">8&nbsp;&nbsp;</span>Подбор порога</a></span></li><li><span><a href=\"#Тестирование-модели\" data-toc-modified-id=\"Тестирование-модели-9\"><span class=\"toc-item-num\">9&nbsp;&nbsp;</span>Тестирование модели</a></span></li><li><span><a href=\"#Выводы\" data-toc-modified-id=\"Выводы-10\"><span class=\"toc-item-num\">10&nbsp;&nbsp;</span>Выводы</a></span></li><li><span><a href=\"#Чек-лист-проверки\" data-toc-modified-id=\"Чек-лист-проверки-11\"><span class=\"toc-item-num\">11&nbsp;&nbsp;</span>Чек-лист проверки</a></span></li></ul></div>"
      ]
    },
    {
      "cell_type": "markdown",
      "metadata": {
        "id": "5sphu6NjImj5"
      },
      "source": [
        "# Проект для «Викишоп»"
      ]
    },
    {
      "cell_type": "markdown",
      "metadata": {
        "id": "M_kD4jbFImj5"
      },
      "source": [
        "Интернет-магазин «Викишоп» запускает новый сервис. Теперь пользователи могут редактировать и дополнять описания товаров, как в вики-сообществах. То есть клиенты предлагают свои правки и комментируют изменения других. Магазину нужен инструмент, который будет искать токсичные комментарии и отправлять их на модерацию.\n",
        "\n",
        "Обучите модель классифицировать комментарии на позитивные и негативные. В вашем распоряжении набор данных с разметкой о токсичности правок.\n",
        "\n",
        "Постройте модель со значением метрики качества *F1* не меньше 0.75.\n",
        "\n",
        "**Инструкция по выполнению проекта**\n",
        "\n",
        "1. Загрузите и подготовьте данные.\n",
        "2. Обучите разные модели.\n",
        "3. Сделайте выводы.\n",
        "\n",
        "**Описание данных**\n",
        "\n",
        "Данные находятся в файле `toxic_comments.csv`. Столбец *text* в нём содержит текст комментария, а *toxic* — целевой признак."
      ]
    },
    {
      "cell_type": "markdown",
      "metadata": {
        "id": "KvCrCT1EImj6"
      },
      "source": [
        "## Введение"
      ]
    },
    {
      "cell_type": "markdown",
      "metadata": {
        "id": "pTXPxn_1Imj7"
      },
      "source": [
        "Итак, перед нами задача обучения с учителем, а именно — бинарной классификации. Будем преобразовывать текстовый признак-предиктор в понятный для наших алгоритмов язык матриц. Для классификации комментариев на токсичные и нетоксичные попробуем использовать как подход \"мешок слов\", так и расчёт взвешенной частоты употребления слова `TF-IDF`.  \n",
        "\n",
        "Успех преобразования данных и подбора модели будем оценивать с помощью метрики качества *F1*, среднего гармонического между метриками *Recall* и *Precision*."
      ]
    },
    {
      "cell_type": "markdown",
      "metadata": {
        "id": "mmDI8OxJImj7"
      },
      "source": [
        "## Импорт библиотек"
      ]
    },
    {
      "cell_type": "markdown",
      "metadata": {
        "id": "mjMLypDaImj8"
      },
      "source": [
        "Импортируем нужные библиотеки:"
      ]
    },
    {
      "cell_type": "code",
      "execution_count": null,
      "metadata": {
        "ExecuteTime": {
          "end_time": "2023-05-22T12:06:00.286191Z",
          "start_time": "2023-05-22T12:05:56.660493Z"
        },
        "id": "fZYwCZ4EImj8"
      },
      "outputs": [],
      "source": [
        "import pandas as pd\n",
        "import numpy as np\n",
        "import scipy\n",
        "\n",
        "# для отображения progress bar при применении функции\n",
        "from tqdm import tqdm\n",
        "tqdm.pandas()\n",
        "\n",
        "# для очистки текста от неинформативных символов\n",
        "import re\n",
        "\n",
        "# nltk — библиотека для работы с текстовыми признаками\n",
        "import nltk\n",
        "from nltk.tokenize import TreebankWordTokenizer\n",
        "from nltk.stem import WordNetLemmatizer\n",
        "from nltk.corpus import stopwords\n",
        "from nltk.tokenize import word_tokenize\n",
        "from sklearn.feature_extraction.text import TfidfVectorizer\n",
        "\n",
        "from sklearn.pipeline import Pipeline\n",
        "from sklearn.feature_extraction.text import CountVectorizer\n",
        "from sklearn.model_selection import train_test_split, GridSearchCV\n",
        "\n",
        "from sklearn.linear_model import LogisticRegression\n",
        "\n",
        "# ключевая метрика для проекта\n",
        "from sklearn.metrics import f1_score\n",
        "\n",
        "from catboost import CatBoostClassifier"
      ]
    },
    {
      "cell_type": "markdown",
      "metadata": {
        "id": "S-pj-QeIImj_"
      },
      "source": [
        "## Предобработка датафрейма"
      ]
    },
    {
      "cell_type": "markdown",
      "metadata": {
        "id": "nOz_94yiImj_"
      },
      "source": [
        "Загружаем данные:"
      ]
    },
    {
      "cell_type": "code",
      "execution_count": null,
      "metadata": {
        "ExecuteTime": {
          "end_time": "2023-05-22T12:06:01.134570Z",
          "start_time": "2023-05-22T12:06:00.291816Z"
        },
        "id": "ehLJMEhLImj_"
      },
      "outputs": [],
      "source": [
        "try:\n",
        "    df = pd.read_csv('/datasets/toxic_comments.csv')\n",
        "except:\n",
        "    df = pd.read_csv('toxic_comments.csv')"
      ]
    },
    {
      "cell_type": "markdown",
      "metadata": {
        "id": "_iqhELc_Imj_"
      },
      "source": [
        "Посмотрим на данные:"
      ]
    },
    {
      "cell_type": "code",
      "execution_count": null,
      "metadata": {
        "ExecuteTime": {
          "end_time": "2023-05-22T12:06:01.154069Z",
          "start_time": "2023-05-22T12:06:01.137262Z"
        },
        "id": "OkE69wRAImkA",
        "outputId": "3a41b991-da68-4107-efb3-52ccf7001363"
      },
      "outputs": [
        {
          "data": {
            "text/html": [
              "<div>\n",
              "<style scoped>\n",
              "    .dataframe tbody tr th:only-of-type {\n",
              "        vertical-align: middle;\n",
              "    }\n",
              "\n",
              "    .dataframe tbody tr th {\n",
              "        vertical-align: top;\n",
              "    }\n",
              "\n",
              "    .dataframe thead th {\n",
              "        text-align: right;\n",
              "    }\n",
              "</style>\n",
              "<table border=\"1\" class=\"dataframe\">\n",
              "  <thead>\n",
              "    <tr style=\"text-align: right;\">\n",
              "      <th></th>\n",
              "      <th>Unnamed: 0</th>\n",
              "      <th>text</th>\n",
              "      <th>toxic</th>\n",
              "    </tr>\n",
              "  </thead>\n",
              "  <tbody>\n",
              "    <tr>\n",
              "      <th>0</th>\n",
              "      <td>0</td>\n",
              "      <td>Explanation\\nWhy the edits made under my usern...</td>\n",
              "      <td>0</td>\n",
              "    </tr>\n",
              "    <tr>\n",
              "      <th>1</th>\n",
              "      <td>1</td>\n",
              "      <td>D'aww! He matches this background colour I'm s...</td>\n",
              "      <td>0</td>\n",
              "    </tr>\n",
              "    <tr>\n",
              "      <th>2</th>\n",
              "      <td>2</td>\n",
              "      <td>Hey man, I'm really not trying to edit war. It...</td>\n",
              "      <td>0</td>\n",
              "    </tr>\n",
              "    <tr>\n",
              "      <th>3</th>\n",
              "      <td>3</td>\n",
              "      <td>\"\\nMore\\nI can't make any real suggestions on ...</td>\n",
              "      <td>0</td>\n",
              "    </tr>\n",
              "    <tr>\n",
              "      <th>4</th>\n",
              "      <td>4</td>\n",
              "      <td>You, sir, are my hero. Any chance you remember...</td>\n",
              "      <td>0</td>\n",
              "    </tr>\n",
              "  </tbody>\n",
              "</table>\n",
              "</div>"
            ],
            "text/plain": [
              "   Unnamed: 0                                               text  toxic\n",
              "0           0  Explanation\\nWhy the edits made under my usern...      0\n",
              "1           1  D'aww! He matches this background colour I'm s...      0\n",
              "2           2  Hey man, I'm really not trying to edit war. It...      0\n",
              "3           3  \"\\nMore\\nI can't make any real suggestions on ...      0\n",
              "4           4  You, sir, are my hero. Any chance you remember...      0"
            ]
          },
          "execution_count": 3,
          "metadata": {},
          "output_type": "execute_result"
        }
      ],
      "source": [
        "df.head(5)"
      ]
    },
    {
      "cell_type": "markdown",
      "metadata": {
        "id": "VAPwSvubImkA"
      },
      "source": [
        "Итак, у нас всего один признак-предиктор, сам текст комментария. Связь между текстом и классом `toxic` нам и предстоит установить с помощью машинного обучения."
      ]
    },
    {
      "cell_type": "markdown",
      "metadata": {
        "id": "xfiO0BWmImkA"
      },
      "source": [
        "Так как перед нами задача классификации, посмотрим на баланс классов целевой переменной:"
      ]
    },
    {
      "cell_type": "code",
      "execution_count": null,
      "metadata": {
        "ExecuteTime": {
          "end_time": "2023-05-22T12:06:01.165052Z",
          "start_time": "2023-05-22T12:06:01.156765Z"
        },
        "id": "QwNyf5dhImkB",
        "outputId": "1149dcc8-75aa-43b0-a28a-6d7bab182f06"
      },
      "outputs": [
        {
          "data": {
            "text/plain": [
              "0    0.9\n",
              "1    0.1\n",
              "Name: toxic, dtype: float64"
            ]
          },
          "execution_count": 4,
          "metadata": {},
          "output_type": "execute_result"
        }
      ],
      "source": [
        "df.toxic.value_counts(normalize=True).round(2)"
      ]
    },
    {
      "cell_type": "markdown",
      "metadata": {
        "id": "lqy0vj3aImkB"
      },
      "source": [
        "Учтём, что в целевом признаке дисбаланс классов. Будем разбивать на выборки со стратификацией по целевому признаку, а также подберём порог классификации для максимизации *F1*."
      ]
    },
    {
      "cell_type": "markdown",
      "metadata": {
        "id": "7xZ4IkGSImkB"
      },
      "source": [
        "С помощью `assert` установим, что\n",
        "1. В датафрейме нет пропусков\n",
        "2. В датафрейме нет дублированных наблюдений\n",
        "3. Все `id` комментариев уникальны (количество уникальных `id` соответствует длине датафрейма)"
      ]
    },
    {
      "cell_type": "code",
      "execution_count": null,
      "metadata": {
        "ExecuteTime": {
          "end_time": "2023-05-22T12:06:01.426005Z",
          "start_time": "2023-05-22T12:06:01.167724Z"
        },
        "id": "kkGFXRrQImkB"
      },
      "outputs": [],
      "source": [
        "assert all([df.isna().sum().sum() == 0,\n",
        "            df.duplicated().sum() == 0,\n",
        "            df.iloc[:, 0].nunique() == df.shape[0]])"
      ]
    },
    {
      "cell_type": "markdown",
      "metadata": {
        "id": "LFAQzGd_ImkB"
      },
      "source": [
        "Порядок.  \n",
        "Исправим дублированный индекс и сотрём его название:"
      ]
    },
    {
      "cell_type": "code",
      "execution_count": null,
      "metadata": {
        "ExecuteTime": {
          "end_time": "2023-05-22T12:06:01.435020Z",
          "start_time": "2023-05-22T12:06:01.428029Z"
        },
        "id": "Itbhd5cvImkB"
      },
      "outputs": [],
      "source": [
        "df = df.set_index(df.columns[0])\n",
        "df.index.name = None"
      ]
    },
    {
      "cell_type": "markdown",
      "metadata": {
        "id": "LI7a-6r3ImkC"
      },
      "source": [
        "Также переименуем столбец `toxic` в `is_toxic` для соответствия булевому смыслу колонки и переведём её в тип `bool`."
      ]
    },
    {
      "cell_type": "code",
      "execution_count": null,
      "metadata": {
        "ExecuteTime": {
          "end_time": "2023-05-22T12:06:01.450544Z",
          "start_time": "2023-05-22T12:06:01.437437Z"
        },
        "id": "y6N5ycR6ImkC",
        "outputId": "2a056a62-5555-45ff-a1b0-f2481504240b"
      },
      "outputs": [
        {
          "data": {
            "text/html": [
              "<div>\n",
              "<style scoped>\n",
              "    .dataframe tbody tr th:only-of-type {\n",
              "        vertical-align: middle;\n",
              "    }\n",
              "\n",
              "    .dataframe tbody tr th {\n",
              "        vertical-align: top;\n",
              "    }\n",
              "\n",
              "    .dataframe thead th {\n",
              "        text-align: right;\n",
              "    }\n",
              "</style>\n",
              "<table border=\"1\" class=\"dataframe\">\n",
              "  <thead>\n",
              "    <tr style=\"text-align: right;\">\n",
              "      <th></th>\n",
              "      <th>text</th>\n",
              "      <th>is_toxic</th>\n",
              "    </tr>\n",
              "  </thead>\n",
              "  <tbody>\n",
              "    <tr>\n",
              "      <th>0</th>\n",
              "      <td>Explanation\\nWhy the edits made under my usern...</td>\n",
              "      <td>False</td>\n",
              "    </tr>\n",
              "    <tr>\n",
              "      <th>1</th>\n",
              "      <td>D'aww! He matches this background colour I'm s...</td>\n",
              "      <td>False</td>\n",
              "    </tr>\n",
              "    <tr>\n",
              "      <th>2</th>\n",
              "      <td>Hey man, I'm really not trying to edit war. It...</td>\n",
              "      <td>False</td>\n",
              "    </tr>\n",
              "    <tr>\n",
              "      <th>3</th>\n",
              "      <td>\"\\nMore\\nI can't make any real suggestions on ...</td>\n",
              "      <td>False</td>\n",
              "    </tr>\n",
              "    <tr>\n",
              "      <th>4</th>\n",
              "      <td>You, sir, are my hero. Any chance you remember...</td>\n",
              "      <td>False</td>\n",
              "    </tr>\n",
              "  </tbody>\n",
              "</table>\n",
              "</div>"
            ],
            "text/plain": [
              "                                                text  is_toxic\n",
              "0  Explanation\\nWhy the edits made under my usern...     False\n",
              "1  D'aww! He matches this background colour I'm s...     False\n",
              "2  Hey man, I'm really not trying to edit war. It...     False\n",
              "3  \"\\nMore\\nI can't make any real suggestions on ...     False\n",
              "4  You, sir, are my hero. Any chance you remember...     False"
            ]
          },
          "execution_count": 7,
          "metadata": {},
          "output_type": "execute_result"
        }
      ],
      "source": [
        "df = df.rename({'toxic': 'is_toxic'}, axis=1)\n",
        "df['is_toxic'] = df['is_toxic'].astype('bool')\n",
        "df.head(5)"
      ]
    },
    {
      "cell_type": "markdown",
      "metadata": {
        "id": "BiyGrfk1ImkC"
      },
      "source": [
        "Проверим, что текстовый признак уже в нужном нам формате:"
      ]
    },
    {
      "cell_type": "code",
      "execution_count": null,
      "metadata": {
        "ExecuteTime": {
          "end_time": "2023-05-22T12:06:05.816442Z",
          "start_time": "2023-05-22T12:06:01.455943Z"
        },
        "id": "d9ioc5orImkC"
      },
      "outputs": [],
      "source": [
        "assert all(df['text'] == df['text'].values.astype('U'))"
      ]
    },
    {
      "cell_type": "code",
      "execution_count": null,
      "metadata": {
        "ExecuteTime": {
          "end_time": "2023-05-22T12:06:05.823442Z",
          "start_time": "2023-05-22T12:06:05.818623Z"
        },
        "id": "dCQkHXWzImkC",
        "outputId": "a5f30bcd-61fc-497a-cee5-0a97cdc0ba7a"
      },
      "outputs": [
        {
          "data": {
            "text/plain": [
              "(159292, 2)"
            ]
          },
          "execution_count": 9,
          "metadata": {},
          "output_type": "execute_result"
        }
      ],
      "source": [
        "df.shape"
      ]
    },
    {
      "cell_type": "markdown",
      "metadata": {
        "id": "iRqJac8rImkD"
      },
      "source": [
        "Итак, перед нами 159 292 текста, к каждому из которых присвоено булево значение."
      ]
    },
    {
      "cell_type": "markdown",
      "metadata": {
        "id": "rPTgM4xMImkD"
      },
      "source": [
        "## Предобработка текста"
      ]
    },
    {
      "cell_type": "markdown",
      "metadata": {
        "id": "pICJrV7PImkD"
      },
      "source": [
        "Чтобы токенизировать текст нам предстоит:  \n",
        "1. Очистить текст от лишних символов.\n",
        "2. Привести слова к нижнему регистру и убрать неинформативные стоп-слова.\n",
        "3. Лемматизировать оставшиеся слова, перед этим присвоив им теги с частью речи — это нужно для корректности работы лемматизатора WordNetLemmatizer."
      ]
    },
    {
      "cell_type": "markdown",
      "metadata": {
        "id": "TxsOYp77ImkD"
      },
      "source": [
        "сохраняем лемматизатор в соответствующую переменную:"
      ]
    },
    {
      "cell_type": "code",
      "execution_count": null,
      "metadata": {
        "ExecuteTime": {
          "end_time": "2023-05-22T12:06:05.831709Z",
          "start_time": "2023-05-22T12:06:05.826602Z"
        },
        "id": "nrHoM-aTImkE"
      },
      "outputs": [],
      "source": [
        "lemmatizer = WordNetLemmatizer()"
      ]
    },
    {
      "cell_type": "markdown",
      "metadata": {
        "id": "d4pZrFzoImkE"
      },
      "source": [
        "Для быстрой работы функции сохраним используемое регулярное выражение в переменную с помощью `re.compile()`, а также сохраним в переменную множество (`set`) стоп-слов — поиск по значению в этом классе занимает константное время O(1)."
      ]
    },
    {
      "cell_type": "code",
      "execution_count": null,
      "metadata": {
        "ExecuteTime": {
          "end_time": "2023-05-22T12:06:05.842771Z",
          "start_time": "2023-05-22T12:06:05.835115Z"
        },
        "id": "9v6hgyaoImkE"
      },
      "outputs": [],
      "source": [
        "# это выражение ищет все символы, не являющиеся буквами\n",
        "regex_compiled = re.compile(r'[^A-Za-z]')\n",
        "# множество стоп-слов\n",
        "eng_stopwords = set(stopwords.words('English'))"
      ]
    },
    {
      "cell_type": "markdown",
      "metadata": {
        "id": "thLUtsLoImkF"
      },
      "source": [
        "Теперь напишем хоть и не самую читаемую, но оптимизированную функцию для предобработки текста:"
      ]
    },
    {
      "cell_type": "code",
      "execution_count": null,
      "metadata": {
        "ExecuteTime": {
          "end_time": "2023-05-22T12:06:05.852520Z",
          "start_time": "2023-05-22T12:06:05.845538Z"
        },
        "id": "id9QI28XImkF"
      },
      "outputs": [],
      "source": [
        "def preprocess_text(text: str) -> str:\n",
        "    '''\n",
        "    Функция принимает на вход строку, возвращает её в лемматизированном\n",
        "    виде.\n",
        "    Порядок операций:\n",
        "    1. Все символы кроме букв заменяются на пробел, слова разбиваются через пробел.\n",
        "    2. Из списка удаляются стоп-слова, оставшиеся приводятся к нижнему регистру\n",
        "    3. С помощью nltk.pos_tag() каждому токену присваиватся тег соответствующей\n",
        "       части речи\n",
        "    4. Лемматизатор WordNet затем лемматизирует токены в соответствие с тегом части речи\n",
        "    5. На выходе токены склеиваются функцией .join(), с пробелом в качестве разделителя\n",
        "    '''\n",
        "\n",
        "    token_pos_tuples = nltk.pos_tag([\n",
        "        token.lower() for token in re.sub(\n",
        "            regex_compiled, ' ', text).split()\n",
        "        if token not in eng_stopwords\n",
        "    ])\n",
        "    lemmas = [\n",
        "        # существительные\n",
        "        lemmatizer.lemmatize(token, pos='n') if pos.startswith('N')\n",
        "        # глаголы\n",
        "        else lemmatizer.lemmatize(token, pos='v') if pos.startswith('V')\n",
        "        # прилагательные\n",
        "        else lemmatizer.lemmatize(token, pos='a') if pos.startswith('J')\n",
        "        # наречия\n",
        "        else lemmatizer.lemmatize(token, pos='r') if pos.startswith('R')\n",
        "        # всё остальное\n",
        "        else lemmatizer.lemmatize(token)\n",
        "        for token, pos in token_pos_tuples\n",
        "    ]\n",
        "    return ' '.join(lemmas)"
      ]
    },
    {
      "cell_type": "markdown",
      "metadata": {
        "id": "ajNAaG17ImkN"
      },
      "source": [
        "Посмотрим на пример работы функции:"
      ]
    },
    {
      "cell_type": "code",
      "execution_count": null,
      "metadata": {
        "ExecuteTime": {
          "end_time": "2023-05-22T12:06:07.164884Z",
          "start_time": "2023-05-22T12:06:05.854977Z"
        },
        "id": "3ev7qggFImkN",
        "outputId": "343b3358-60dd-414a-bf2e-e4c835f4cadc"
      },
      "outputs": [
        {
          "name": "stdout",
          "output_type": "stream",
          "text": [
            "Текст до предобработки: \n",
            "Explanation\n",
            "Why the edits made under my username Hardcore Metallica Fan were reverted? They weren't vandalisms, just closure on some GAs after I voted at New York Dolls FAC. And please don't remove the template from the talk page since I'm retired now.89.205.38.27\n",
            "Длина текста:\n",
            "264\n",
            "\n",
            "\n",
            "Текст после предобработки: \n",
            "explanation why edits make username hardcore metallica fan revert they vandalisms closure gas i vote new york doll fac and please remove template talk page since i retire\n",
            "Длина текста:\n",
            "170\n"
          ]
        }
      ],
      "source": [
        "print(f'''Текст до предобработки:\n",
        "{df['text'][0]}\n",
        "Длина текста:\n",
        "{len(df['text'][0])}\n",
        "\n",
        "\n",
        "Текст после предобработки:\n",
        "{preprocess_text(df['text'][0])}\n",
        "Длина текста:\n",
        "{len(preprocess_text(df['text'][0]))}''')"
      ]
    },
    {
      "cell_type": "markdown",
      "metadata": {
        "id": "s8oOu_NyImkN"
      },
      "source": [
        "Функция работает корректно. Применим её к столбцу `text` (с отображением прогресса), запишем результат в столбец `text_lemmatized` в том же датафрейме."
      ]
    },
    {
      "cell_type": "code",
      "execution_count": null,
      "metadata": {
        "ExecuteTime": {
          "end_time": "2023-05-22T12:12:28.951936Z",
          "start_time": "2023-05-22T12:06:07.167158Z"
        },
        "id": "0QILDyE3ImkO",
        "outputId": "991b215f-374c-420e-9e07-e6eadb83b755"
      },
      "outputs": [
        {
          "name": "stderr",
          "output_type": "stream",
          "text": [
            "100%|██████████████████████████████████| 159292/159292 [06:21<00:00, 417.26it/s]"
          ]
        },
        {
          "name": "stdout",
          "output_type": "stream",
          "text": [
            "CPU times: user 6min 14s, sys: 6.84 s, total: 6min 20s\n",
            "Wall time: 6min 21s\n"
          ]
        },
        {
          "name": "stderr",
          "output_type": "stream",
          "text": [
            "\n"
          ]
        }
      ],
      "source": [
        "%%time\n",
        "df['text_lemmatized'] = df['text'].progress_apply(preprocess_text)"
      ]
    },
    {
      "cell_type": "code",
      "execution_count": null,
      "metadata": {
        "ExecuteTime": {
          "end_time": "2023-05-22T12:12:28.967832Z",
          "start_time": "2023-05-22T12:12:28.956093Z"
        },
        "id": "-yMXWW4FImkO",
        "outputId": "e9f54a11-d2cd-4b1d-fef7-157ad4852088"
      },
      "outputs": [
        {
          "data": {
            "text/html": [
              "<div>\n",
              "<style scoped>\n",
              "    .dataframe tbody tr th:only-of-type {\n",
              "        vertical-align: middle;\n",
              "    }\n",
              "\n",
              "    .dataframe tbody tr th {\n",
              "        vertical-align: top;\n",
              "    }\n",
              "\n",
              "    .dataframe thead th {\n",
              "        text-align: right;\n",
              "    }\n",
              "</style>\n",
              "<table border=\"1\" class=\"dataframe\">\n",
              "  <thead>\n",
              "    <tr style=\"text-align: right;\">\n",
              "      <th></th>\n",
              "      <th>text</th>\n",
              "      <th>is_toxic</th>\n",
              "      <th>text_lemmatized</th>\n",
              "    </tr>\n",
              "  </thead>\n",
              "  <tbody>\n",
              "    <tr>\n",
              "      <th>0</th>\n",
              "      <td>Explanation\\nWhy the edits made under my usern...</td>\n",
              "      <td>False</td>\n",
              "      <td>explanation why edits make username hardcore m...</td>\n",
              "    </tr>\n",
              "    <tr>\n",
              "      <th>1</th>\n",
              "      <td>D'aww! He matches this background colour I'm s...</td>\n",
              "      <td>False</td>\n",
              "      <td>d aww he match background colour i seemingly s...</td>\n",
              "    </tr>\n",
              "    <tr>\n",
              "      <th>2</th>\n",
              "      <td>Hey man, I'm really not trying to edit war. It...</td>\n",
              "      <td>False</td>\n",
              "      <td>hey man i really try edit war it guy constantl...</td>\n",
              "    </tr>\n",
              "    <tr>\n",
              "      <th>3</th>\n",
              "      <td>\"\\nMore\\nI can't make any real suggestions on ...</td>\n",
              "      <td>False</td>\n",
              "      <td>more i make real suggestion improvement i wond...</td>\n",
              "    </tr>\n",
              "    <tr>\n",
              "      <th>4</th>\n",
              "      <td>You, sir, are my hero. Any chance you remember...</td>\n",
              "      <td>False</td>\n",
              "      <td>you sir hero any chance remember page</td>\n",
              "    </tr>\n",
              "  </tbody>\n",
              "</table>\n",
              "</div>"
            ],
            "text/plain": [
              "                                                text  is_toxic  \\\n",
              "0  Explanation\\nWhy the edits made under my usern...     False   \n",
              "1  D'aww! He matches this background colour I'm s...     False   \n",
              "2  Hey man, I'm really not trying to edit war. It...     False   \n",
              "3  \"\\nMore\\nI can't make any real suggestions on ...     False   \n",
              "4  You, sir, are my hero. Any chance you remember...     False   \n",
              "\n",
              "                                     text_lemmatized  \n",
              "0  explanation why edits make username hardcore m...  \n",
              "1  d aww he match background colour i seemingly s...  \n",
              "2  hey man i really try edit war it guy constantl...  \n",
              "3  more i make real suggestion improvement i wond...  \n",
              "4              you sir hero any chance remember page  "
            ]
          },
          "execution_count": 15,
          "metadata": {},
          "output_type": "execute_result"
        }
      ],
      "source": [
        "df.head(5)"
      ]
    },
    {
      "cell_type": "markdown",
      "metadata": {
        "id": "IPKOAHUnImkO"
      },
      "source": [
        "Итак, теперь у нас есть корпус. Запишем его в переменную `full_corpus`:"
      ]
    },
    {
      "cell_type": "code",
      "execution_count": null,
      "metadata": {
        "ExecuteTime": {
          "end_time": "2023-05-22T12:12:28.974960Z",
          "start_time": "2023-05-22T12:12:28.971356Z"
        },
        "id": "ALoto0LyImkP"
      },
      "outputs": [],
      "source": [
        "full_corpus = df['text_lemmatized'].values"
      ]
    },
    {
      "cell_type": "markdown",
      "metadata": {
        "id": "tvGbmjCAImkP"
      },
      "source": [
        "Перед тем как преобразовывать корпус в мешки слов и биграммы, разобьём выборку на обучающую, тестовую и валидационную."
      ]
    },
    {
      "cell_type": "markdown",
      "metadata": {
        "id": "XfyeeCp9ImkP"
      },
      "source": [
        "## Разбиение на выборки"
      ]
    },
    {
      "cell_type": "markdown",
      "metadata": {
        "id": "HCgy87dFImkP"
      },
      "source": [
        "При разбиении учтём сильный дисбаланс классов (9:1), сделаем так чтобы баланс классов в каждой из выборок был пропорционален балансу классов исходного датафрейма."
      ]
    },
    {
      "cell_type": "code",
      "execution_count": null,
      "metadata": {
        "ExecuteTime": {
          "end_time": "2023-05-22T12:12:28.984973Z",
          "start_time": "2023-05-22T12:12:28.977762Z"
        },
        "id": "WhLp3d7TImkP"
      },
      "outputs": [],
      "source": [
        "def train_valid_test_split(df: pd.DataFrame, target: str) -> \\\n",
        "    tuple[pd.DataFrame, pd.Series,\n",
        "          pd.DataFrame, pd.Series,\n",
        "          pd.DataFrame, pd.Series]:\n",
        "    '''\n",
        "    Функция принимает датафрейм df и строку target со столбцом-таргетом,\n",
        "    Отдаёт три пары датафрейм-серия для трёх выборок со стратифицированным\n",
        "    целевым признаком.\n",
        "    '''\n",
        "    X = df.copy()\n",
        "    y = X.pop(target)\n",
        "\n",
        "    X_train, X_test_valid, y_train, y_test_valid = \\\n",
        "    train_test_split(X, y, test_size=0.4, random_state=42, stratify=y)\n",
        "\n",
        "    X_test, X_valid, y_test, y_valid = \\\n",
        "    train_test_split(X_test_valid,\n",
        "                     y_test_valid,\n",
        "                     test_size=0.5,\n",
        "                     random_state=42,\n",
        "                     stratify=y_test_valid)\n",
        "    # Проверяем, что выборки действительно разбиты в отношении 3:1:1\n",
        "    # и классы стратифицированны\n",
        "    assert all([\n",
        "        round(X_train.shape[0] / y_test.shape[0], 2) == 3,\n",
        "        round(X_valid.shape[0] / y_test.shape[0], 2) == 1,\n",
        "        np.sum(y_test) - np.sum(y_valid) <= 1,\n",
        "        np.sum(y_train) - np.sum(y_valid) * 3 <= 3\n",
        "    ])\n",
        "\n",
        "    return X_train, y_train, X_valid, y_valid, X_test, y_test"
      ]
    },
    {
      "cell_type": "code",
      "execution_count": null,
      "metadata": {
        "ExecuteTime": {
          "end_time": "2023-05-22T12:12:29.088326Z",
          "start_time": "2023-05-22T12:12:28.987739Z"
        },
        "id": "5-gUQcypImkP"
      },
      "outputs": [],
      "source": [
        "X_train, y_train, X_valid, y_valid, X_test, y_test = \\\n",
        "train_valid_test_split(df, 'is_toxic')"
      ]
    },
    {
      "cell_type": "code",
      "execution_count": null,
      "metadata": {
        "ExecuteTime": {
          "end_time": "2023-05-22T12:12:29.094307Z",
          "start_time": "2023-05-22T12:12:29.090459Z"
        },
        "id": "57sHgDNcImkP"
      },
      "outputs": [],
      "source": [
        "train_corpus = X_train['text_lemmatized'].values\n",
        "valid_corpus = X_valid['text_lemmatized'].values\n",
        "test_corpus = X_test['text_lemmatized'].values"
      ]
    },
    {
      "cell_type": "markdown",
      "metadata": {
        "id": "6AaPkaagImkP"
      },
      "source": [
        "## Подбор метода цифровизации текста"
      ]
    },
    {
      "cell_type": "markdown",
      "metadata": {
        "id": "aEHa12bGImkQ"
      },
      "source": [
        "В нашем проекте мы будем использовать три этапа подбора на валидационной выборке перед тем как тестировать модель на тестовой выборке:\n",
        "1. Подбор метода цифровизации текста\n",
        "2. Подбор модели и её гиперпараметров\n",
        "3. Подбор порога классификации для выбранной модели\n",
        "\n",
        "Начнём с подбора метода цифровизации текста. Для этого импортируем логистическую регрессию, с помощью которой будем измерять качество преобразования."
      ]
    },
    {
      "cell_type": "code",
      "execution_count": null,
      "metadata": {
        "ExecuteTime": {
          "end_time": "2023-05-22T12:12:29.100355Z",
          "start_time": "2023-05-22T12:12:29.097203Z"
        },
        "id": "GWlvTjyFImkQ"
      },
      "outputs": [],
      "source": [
        "lr = LogisticRegression(max_iter=1000, random_state=42)"
      ]
    },
    {
      "cell_type": "markdown",
      "metadata": {
        "id": "EuHpknG7ImkQ"
      },
      "source": [
        "### Мешок слов"
      ]
    },
    {
      "cell_type": "markdown",
      "metadata": {
        "id": "d1RPUZhJImkQ"
      },
      "source": [
        "Создадим счётчик слов и \"обучим\" его на тренировочной выборке:"
      ]
    },
    {
      "cell_type": "code",
      "execution_count": null,
      "metadata": {
        "ExecuteTime": {
          "end_time": "2023-05-22T12:12:29.106868Z",
          "start_time": "2023-05-22T12:12:29.103376Z"
        },
        "id": "HbesqapqImkQ"
      },
      "outputs": [],
      "source": [
        "count_vect = CountVectorizer()"
      ]
    },
    {
      "cell_type": "code",
      "execution_count": null,
      "metadata": {
        "ExecuteTime": {
          "end_time": "2023-05-22T12:12:31.990576Z",
          "start_time": "2023-05-22T12:12:29.109719Z"
        },
        "id": "RUap1kwVImkQ",
        "outputId": "69c57bb0-2a15-45d1-d306-ced7254aeba8"
      },
      "outputs": [
        {
          "data": {
            "text/plain": [
              "CountVectorizer()"
            ]
          },
          "execution_count": 22,
          "metadata": {},
          "output_type": "execute_result"
        }
      ],
      "source": [
        "count_vect.fit(train_corpus)"
      ]
    },
    {
      "cell_type": "markdown",
      "metadata": {
        "id": "tcfUt24uImkR"
      },
      "source": [
        "Создадим два мешка слов для выборок:"
      ]
    },
    {
      "cell_type": "code",
      "execution_count": null,
      "metadata": {
        "ExecuteTime": {
          "end_time": "2023-05-22T12:12:35.308088Z",
          "start_time": "2023-05-22T12:12:31.992918Z"
        },
        "id": "MNX9NCNEImkR"
      },
      "outputs": [],
      "source": [
        "bow_train = count_vect.transform(train_corpus)\n",
        "bow_valid = count_vect.transform(valid_corpus)"
      ]
    },
    {
      "cell_type": "markdown",
      "metadata": {
        "ExecuteTime": {
          "end_time": "2023-05-19T13:45:12.411680Z",
          "start_time": "2023-05-19T13:45:12.394968Z"
        },
        "id": "d9KjEnhCImkR"
      },
      "source": [
        "Обучим модель на тренировочной выборке:"
      ]
    },
    {
      "cell_type": "code",
      "execution_count": null,
      "metadata": {
        "ExecuteTime": {
          "end_time": "2023-05-22T12:12:50.062102Z",
          "start_time": "2023-05-22T12:12:35.310095Z"
        },
        "id": "5h1qHbU7ImkR",
        "outputId": "bd7b81f3-42f9-4687-9e40-453ed70b4abf"
      },
      "outputs": [
        {
          "data": {
            "text/plain": [
              "LogisticRegression(max_iter=1000, random_state=42)"
            ]
          },
          "execution_count": 24,
          "metadata": {},
          "output_type": "execute_result"
        }
      ],
      "source": [
        "lr.fit(bow_train, y_train)"
      ]
    },
    {
      "cell_type": "markdown",
      "metadata": {
        "id": "_bXob4IRImkR"
      },
      "source": [
        "Посчитаем *F1-score* для валидационной выборки:"
      ]
    },
    {
      "cell_type": "code",
      "execution_count": null,
      "metadata": {
        "ExecuteTime": {
          "end_time": "2023-05-22T12:12:50.090526Z",
          "start_time": "2023-05-22T12:12:50.065154Z"
        },
        "id": "7HTN7shaImkR",
        "outputId": "1c348e8f-a5d7-4238-e7f9-61fec239cc6b"
      },
      "outputs": [
        {
          "data": {
            "text/plain": [
              "0.762"
            ]
          },
          "execution_count": 25,
          "metadata": {},
          "output_type": "execute_result"
        }
      ],
      "source": [
        "f1_score(y_valid, lr.predict(bow_valid)).round(3)"
      ]
    },
    {
      "cell_type": "markdown",
      "metadata": {
        "id": "lwn3KiF1ImkR"
      },
      "source": [
        "Уже неплохо. Попробуем другие методы."
      ]
    },
    {
      "cell_type": "markdown",
      "metadata": {
        "id": "9vA8NGNbImkS"
      },
      "source": [
        "### Биграммы"
      ]
    },
    {
      "cell_type": "markdown",
      "metadata": {
        "id": "j2Ui98AMImkS"
      },
      "source": [
        "Проделаем ту же процедуру для биграмм:"
      ]
    },
    {
      "cell_type": "code",
      "execution_count": null,
      "metadata": {
        "ExecuteTime": {
          "end_time": "2023-05-22T12:12:50.109598Z",
          "start_time": "2023-05-22T12:12:50.105676Z"
        },
        "id": "q1zv5Gp6ImkS"
      },
      "outputs": [],
      "source": [
        "count_vect_bigram = CountVectorizer(ngram_range=(2, 2))"
      ]
    },
    {
      "cell_type": "code",
      "execution_count": null,
      "metadata": {
        "ExecuteTime": {
          "end_time": "2023-05-22T12:13:00.634293Z",
          "start_time": "2023-05-22T12:12:50.112943Z"
        },
        "id": "e_XIHeyKImkS",
        "outputId": "05d0996b-2fd8-48dc-db6a-31dbdc06208b"
      },
      "outputs": [
        {
          "data": {
            "text/plain": [
              "CountVectorizer(ngram_range=(2, 2))"
            ]
          },
          "execution_count": 27,
          "metadata": {},
          "output_type": "execute_result"
        }
      ],
      "source": [
        "count_vect_bigram.fit(train_corpus)"
      ]
    },
    {
      "cell_type": "code",
      "execution_count": null,
      "metadata": {
        "ExecuteTime": {
          "end_time": "2023-05-22T12:13:07.242699Z",
          "start_time": "2023-05-22T12:13:00.637139Z"
        },
        "id": "voGpXo4FImkT"
      },
      "outputs": [],
      "source": [
        "bigram_train = count_vect_bigram.transform(train_corpus)\n",
        "bigram_valid = count_vect_bigram.transform(valid_corpus)"
      ]
    },
    {
      "cell_type": "code",
      "execution_count": null,
      "metadata": {
        "ExecuteTime": {
          "end_time": "2023-05-22T12:14:05.421571Z",
          "start_time": "2023-05-22T12:13:07.244905Z"
        },
        "id": "w6Qxrqt8ImkT",
        "outputId": "766dd797-7a36-431c-a0c4-7eb6e9d84dae"
      },
      "outputs": [
        {
          "data": {
            "text/plain": [
              "LogisticRegression(max_iter=1000, random_state=42)"
            ]
          },
          "execution_count": 29,
          "metadata": {},
          "output_type": "execute_result"
        }
      ],
      "source": [
        "lr.fit(bigram_train, y_train)"
      ]
    },
    {
      "cell_type": "code",
      "execution_count": null,
      "metadata": {
        "ExecuteTime": {
          "end_time": "2023-05-22T12:14:05.452413Z",
          "start_time": "2023-05-22T12:14:05.424817Z"
        },
        "id": "84SxZaiYImkT",
        "outputId": "c2a84a86-7590-442d-cab5-eda9f207e57a"
      },
      "outputs": [
        {
          "data": {
            "text/plain": [
              "0.411"
            ]
          },
          "execution_count": 30,
          "metadata": {},
          "output_type": "execute_result"
        }
      ],
      "source": [
        "f1_score(y_valid, lr.predict(bigram_valid)).round(3)"
      ]
    },
    {
      "cell_type": "markdown",
      "metadata": {
        "id": "I1a7248lImkT"
      },
      "source": [
        "Ужасный скор, попробуем расчёт `TF-IDF`."
      ]
    },
    {
      "cell_type": "markdown",
      "metadata": {
        "id": "FGZg8JWYImkT"
      },
      "source": [
        "### `TF-IDF`"
      ]
    },
    {
      "cell_type": "code",
      "execution_count": null,
      "metadata": {
        "ExecuteTime": {
          "end_time": "2023-05-22T12:14:05.460202Z",
          "start_time": "2023-05-22T12:14:05.456106Z"
        },
        "id": "H7jK40leImkT"
      },
      "outputs": [],
      "source": [
        "count_tf_idf = TfidfVectorizer()"
      ]
    },
    {
      "cell_type": "markdown",
      "metadata": {
        "id": "a3qC7RgjImkU"
      },
      "source": [
        "Подберём лучшие параметры расчёта относительных частот слов `TF-IDF` с помощью класса `sklearn.pipeline.Pipeline`, где результат всё той же логистической регрессии по метрике качестве *F1* будет оценочной функцией."
      ]
    },
    {
      "cell_type": "code",
      "execution_count": null,
      "metadata": {
        "ExecuteTime": {
          "end_time": "2023-05-22T12:14:05.473835Z",
          "start_time": "2023-05-22T12:14:05.463971Z"
        },
        "id": "LGDfNgIGImkU"
      },
      "outputs": [],
      "source": [
        "pipeline = Pipeline([\n",
        "    ('tf_idf', count_tf_idf),\n",
        "    ('lr', lr),\n",
        "])\n",
        "parameters = {\n",
        "    'tf_idf__max_df': (0.25, 0.5, 0.75),\n",
        "    'tf_idf__ngram_range': [(1, 1), (2, 2), (1, 2)]\n",
        "}\n",
        "\n",
        "grid_search_tf_idf = \\\n",
        "GridSearchCV(pipeline, parameters, cv=3, scoring='f1', verbose=3)"
      ]
    },
    {
      "cell_type": "code",
      "execution_count": null,
      "metadata": {
        "ExecuteTime": {
          "end_time": "2023-05-22T12:24:30.459013Z",
          "start_time": "2023-05-22T12:14:05.477864Z"
        },
        "id": "nJuDdJU7ImkU",
        "outputId": "e511e292-2b19-4951-fb63-df9dc8b2d89e"
      },
      "outputs": [
        {
          "name": "stdout",
          "output_type": "stream",
          "text": [
            "Fitting 3 folds for each of 9 candidates, totalling 27 fits\n",
            "[CV 1/3] END tf_idf__max_df=0.25, tf_idf__ngram_range=(1, 1);, score=0.710 total time=   6.0s\n",
            "[CV 2/3] END tf_idf__max_df=0.25, tf_idf__ngram_range=(1, 1);, score=0.715 total time=   5.3s\n",
            "[CV 3/3] END tf_idf__max_df=0.25, tf_idf__ngram_range=(1, 1);, score=0.719 total time=   5.6s\n",
            "[CV 1/3] END tf_idf__max_df=0.25, tf_idf__ngram_range=(2, 2);, score=0.182 total time=  25.3s\n",
            "[CV 2/3] END tf_idf__max_df=0.25, tf_idf__ngram_range=(2, 2);, score=0.179 total time=  23.7s\n",
            "[CV 3/3] END tf_idf__max_df=0.25, tf_idf__ngram_range=(2, 2);, score=0.185 total time=  23.8s\n",
            "[CV 1/3] END tf_idf__max_df=0.25, tf_idf__ngram_range=(1, 2);, score=0.674 total time=  35.8s\n",
            "[CV 2/3] END tf_idf__max_df=0.25, tf_idf__ngram_range=(1, 2);, score=0.674 total time=  35.8s\n",
            "[CV 3/3] END tf_idf__max_df=0.25, tf_idf__ngram_range=(1, 2);, score=0.683 total time=  35.2s\n",
            "[CV 1/3] END tf_idf__max_df=0.5, tf_idf__ngram_range=(1, 1);, score=0.710 total time=   7.0s\n",
            "[CV 2/3] END tf_idf__max_df=0.5, tf_idf__ngram_range=(1, 1);, score=0.715 total time=   6.4s\n",
            "[CV 3/3] END tf_idf__max_df=0.5, tf_idf__ngram_range=(1, 1);, score=0.719 total time=   6.3s\n",
            "[CV 1/3] END tf_idf__max_df=0.5, tf_idf__ngram_range=(2, 2);, score=0.182 total time=  28.4s\n",
            "[CV 2/3] END tf_idf__max_df=0.5, tf_idf__ngram_range=(2, 2);, score=0.179 total time=  23.0s\n",
            "[CV 3/3] END tf_idf__max_df=0.5, tf_idf__ngram_range=(2, 2);, score=0.185 total time=  29.9s\n",
            "[CV 1/3] END tf_idf__max_df=0.5, tf_idf__ngram_range=(1, 2);, score=0.674 total time=  34.0s\n",
            "[CV 2/3] END tf_idf__max_df=0.5, tf_idf__ngram_range=(1, 2);, score=0.674 total time=  35.4s\n",
            "[CV 3/3] END tf_idf__max_df=0.5, tf_idf__ngram_range=(1, 2);, score=0.683 total time=  37.4s\n",
            "[CV 1/3] END tf_idf__max_df=0.75, tf_idf__ngram_range=(1, 1);, score=0.710 total time=   7.1s\n",
            "[CV 2/3] END tf_idf__max_df=0.75, tf_idf__ngram_range=(1, 1);, score=0.715 total time=   7.0s\n",
            "[CV 3/3] END tf_idf__max_df=0.75, tf_idf__ngram_range=(1, 1);, score=0.719 total time=   7.0s\n",
            "[CV 1/3] END tf_idf__max_df=0.75, tf_idf__ngram_range=(2, 2);, score=0.182 total time=  28.5s\n",
            "[CV 2/3] END tf_idf__max_df=0.75, tf_idf__ngram_range=(2, 2);, score=0.179 total time=  25.0s\n",
            "[CV 3/3] END tf_idf__max_df=0.75, tf_idf__ngram_range=(2, 2);, score=0.185 total time=  28.8s\n",
            "[CV 1/3] END tf_idf__max_df=0.75, tf_idf__ngram_range=(1, 2);, score=0.674 total time=  35.6s\n",
            "[CV 2/3] END tf_idf__max_df=0.75, tf_idf__ngram_range=(1, 2);, score=0.674 total time=  35.1s\n",
            "[CV 3/3] END tf_idf__max_df=0.75, tf_idf__ngram_range=(1, 2);, score=0.683 total time=  37.0s\n"
          ]
        }
      ],
      "source": [
        "grid_search_tf_idf.fit(train_corpus, y_train)\n",
        "pass"
      ]
    },
    {
      "cell_type": "code",
      "execution_count": null,
      "metadata": {
        "ExecuteTime": {
          "end_time": "2023-05-22T12:24:30.478203Z",
          "start_time": "2023-05-22T12:24:30.462193Z"
        },
        "id": "rhvylYyjImkU",
        "outputId": "680e4c20-7955-4362-8b67-40bdd7f7e061"
      },
      "outputs": [
        {
          "name": "stdout",
          "output_type": "stream",
          "text": [
            "Лучший скор F1 на кросс-валидации: 0.714\n",
            "\n",
            "Гиперпараметры лучшего расчёта TF-IDF: \n",
            "TfidfVectorizer(max_df=0.25)\n",
            "TfidfVectorizer(ngram_range=(1, 1))\n"
          ]
        }
      ],
      "source": [
        "print(f'''Лучший скор F1 на кросс-валидации: \\\n",
        "{grid_search_tf_idf.best_score_:.3f}\n",
        "\n",
        "Гиперпараметры лучшего расчёта TF-IDF:\n",
        "{grid_search_tf_idf.best_estimator_.steps[0][1]}\n",
        "TfidfVectorizer(ngram_range=(1, 1))''')"
      ]
    },
    {
      "cell_type": "markdown",
      "metadata": {
        "id": "Ohmo0RegImkU"
      },
      "source": [
        "Получилось лучше чем с биграммами, но хуже чем с мешком слов.  "
      ]
    },
    {
      "cell_type": "markdown",
      "metadata": {
        "id": "-DtShfcIImkU"
      },
      "source": [
        "**Вывод:**  \n",
        "Итак, лучшим методом преобразования оказался самый простой — мешок слов. Заранее создадим мешок слов для тестовой выборки и приступим к подбору модели и её гиперпараметров."
      ]
    },
    {
      "cell_type": "code",
      "execution_count": null,
      "metadata": {
        "ExecuteTime": {
          "end_time": "2023-05-22T12:24:31.821357Z",
          "start_time": "2023-05-22T12:24:30.484492Z"
        },
        "id": "rw9YrG5bImkU"
      },
      "outputs": [],
      "source": [
        "bow_test = count_vect.transform(test_corpus)"
      ]
    },
    {
      "cell_type": "markdown",
      "metadata": {
        "id": "lht5QA_yImkV"
      },
      "source": [
        "## Подбор модели и гиперпараметров"
      ]
    },
    {
      "cell_type": "markdown",
      "metadata": {
        "id": "1ctBorKvImkV"
      },
      "source": [
        "С помощью инструментала библиотеки `scipy` для работы с разреженными матрицами объединим тренировочные и валидационные выборки для подбора параметров логистической регрессии при помощи кросс-валидации:"
      ]
    },
    {
      "cell_type": "code",
      "execution_count": null,
      "metadata": {
        "ExecuteTime": {
          "end_time": "2023-05-22T12:24:31.925404Z",
          "start_time": "2023-05-22T12:24:31.824966Z"
        },
        "id": "VpA-5yQ9ImkV"
      },
      "outputs": [],
      "source": [
        "bow_full_train = scipy.sparse.vstack((bow_train, bow_valid))\n",
        "y_full_train = pd.concat([y_train, y_valid])"
      ]
    },
    {
      "cell_type": "markdown",
      "metadata": {
        "id": "UygG31eHImkV"
      },
      "source": [
        "### Логистическая регрессия"
      ]
    },
    {
      "cell_type": "markdown",
      "metadata": {
        "id": "PDFdLNwwImkV"
      },
      "source": [
        "Импортируем логистическую регрессию и сразу зафиксируем достаточно большое кол-во итерации для сходимости:"
      ]
    },
    {
      "cell_type": "code",
      "execution_count": null,
      "metadata": {
        "ExecuteTime": {
          "end_time": "2023-05-22T12:24:31.931994Z",
          "start_time": "2023-05-22T12:24:31.928188Z"
        },
        "id": "Mt7KceGPImkV"
      },
      "outputs": [],
      "source": [
        "lr = LogisticRegression(max_iter=1000, random_state=42)"
      ]
    },
    {
      "cell_type": "markdown",
      "metadata": {
        "id": "OiMb4Q60ImkW"
      },
      "source": [
        "Зададим сетку возможных параметров для обучения:"
      ]
    },
    {
      "cell_type": "code",
      "execution_count": null,
      "metadata": {
        "ExecuteTime": {
          "end_time": "2023-05-22T12:24:31.945117Z",
          "start_time": "2023-05-22T12:24:31.937046Z"
        },
        "id": "XOcG6dcJImkW"
      },
      "outputs": [],
      "source": [
        "lr_param_grid = {\n",
        "    'class_weight': [None, 'balanced'],\n",
        "    'solver': ['lbfgs', 'newton-cg'],\n",
        "    'C': [1,2,6]\n",
        "}"
      ]
    },
    {
      "cell_type": "markdown",
      "metadata": {
        "id": "1intl7CvImkW"
      },
      "source": [
        "Создадим инстанцию класса `GridSearchCV`. Будем подбирать гиперпараметры на трёх фолдах и оценивать модель с помощью целевой метрики — *F1*."
      ]
    },
    {
      "cell_type": "code",
      "execution_count": null,
      "metadata": {
        "ExecuteTime": {
          "end_time": "2023-05-22T12:24:31.953576Z",
          "start_time": "2023-05-22T12:24:31.948720Z"
        },
        "id": "0jywQyLDImkW"
      },
      "outputs": [],
      "source": [
        "lr_grid_search_cv = GridSearchCV(lr,\n",
        "                                 lr_param_grid,\n",
        "                                 cv=3,\n",
        "                                 verbose=3,\n",
        "                                 scoring='f1')"
      ]
    },
    {
      "cell_type": "code",
      "execution_count": null,
      "metadata": {
        "ExecuteTime": {
          "end_time": "2023-05-22T12:40:29.800896Z",
          "start_time": "2023-05-22T12:24:31.957895Z"
        },
        "id": "ZPSSaV16ImkX",
        "outputId": "67060720-c964-4fa1-a499-b206a2894ba1"
      },
      "outputs": [
        {
          "name": "stdout",
          "output_type": "stream",
          "text": [
            "Fitting 3 folds for each of 12 candidates, totalling 36 fits\n",
            "[CV 1/3] END C=1, class_weight=None, solver=lbfgs;, score=0.765 total time=  13.0s\n",
            "[CV 2/3] END C=1, class_weight=None, solver=lbfgs;, score=0.757 total time=  10.1s\n",
            "[CV 3/3] END C=1, class_weight=None, solver=lbfgs;, score=0.765 total time=  17.1s\n",
            "[CV 1/3] END C=1, class_weight=None, solver=newton-cg;, score=0.765 total time=  20.0s\n",
            "[CV 2/3] END C=1, class_weight=None, solver=newton-cg;, score=0.757 total time=  17.6s\n",
            "[CV 3/3] END C=1, class_weight=None, solver=newton-cg;, score=0.765 total time=  25.3s\n",
            "[CV 1/3] END C=1, class_weight=balanced, solver=lbfgs;, score=0.763 total time=  12.2s\n",
            "[CV 2/3] END C=1, class_weight=balanced, solver=lbfgs;, score=0.755 total time=  11.0s\n",
            "[CV 3/3] END C=1, class_weight=balanced, solver=lbfgs;, score=0.773 total time=  13.2s\n",
            "[CV 1/3] END C=1, class_weight=balanced, solver=newton-cg;, score=0.763 total time=  41.9s\n",
            "[CV 2/3] END C=1, class_weight=balanced, solver=newton-cg;, score=0.755 total time=  36.7s\n",
            "[CV 3/3] END C=1, class_weight=balanced, solver=newton-cg;, score=0.773 total time=  32.4s\n",
            "[CV 1/3] END C=2, class_weight=None, solver=lbfgs;, score=0.768 total time=  17.4s\n",
            "[CV 2/3] END C=2, class_weight=None, solver=lbfgs;, score=0.765 total time=  11.6s\n",
            "[CV 3/3] END C=2, class_weight=None, solver=lbfgs;, score=0.774 total time=  17.9s\n",
            "[CV 1/3] END C=2, class_weight=None, solver=newton-cg;, score=0.768 total time=  32.0s\n",
            "[CV 2/3] END C=2, class_weight=None, solver=newton-cg;, score=0.765 total time=  20.5s\n",
            "[CV 3/3] END C=2, class_weight=None, solver=newton-cg;, score=0.774 total time=  34.2s\n",
            "[CV 1/3] END C=2, class_weight=balanced, solver=lbfgs;, score=0.763 total time=  20.7s\n",
            "[CV 2/3] END C=2, class_weight=balanced, solver=lbfgs;, score=0.754 total time=  18.7s\n",
            "[CV 3/3] END C=2, class_weight=balanced, solver=lbfgs;, score=0.768 total time=  21.1s\n",
            "[CV 1/3] END C=2, class_weight=balanced, solver=newton-cg;, score=0.763 total time=  48.7s\n",
            "[CV 2/3] END C=2, class_weight=balanced, solver=newton-cg;, score=0.754 total time=  47.6s\n",
            "[CV 3/3] END C=2, class_weight=balanced, solver=newton-cg;, score=0.768 total time=  36.8s\n",
            "[CV 1/3] END C=6, class_weight=None, solver=lbfgs;, score=0.768 total time=  20.1s\n",
            "[CV 2/3] END C=6, class_weight=None, solver=lbfgs;, score=0.766 total time=  17.5s\n",
            "[CV 3/3] END C=6, class_weight=None, solver=lbfgs;, score=0.769 total time=  26.5s\n",
            "[CV 1/3] END C=6, class_weight=None, solver=newton-cg;, score=0.768 total time=  43.0s\n",
            "[CV 2/3] END C=6, class_weight=None, solver=newton-cg;, score=0.766 total time=  29.2s\n",
            "[CV 3/3] END C=6, class_weight=None, solver=newton-cg;, score=0.769 total time=  31.9s\n",
            "[CV 1/3] END C=6, class_weight=balanced, solver=lbfgs;, score=0.757 total time=  21.0s\n",
            "[CV 2/3] END C=6, class_weight=balanced, solver=lbfgs;, score=0.746 total time=  22.5s\n",
            "[CV 3/3] END C=6, class_weight=balanced, solver=lbfgs;, score=0.761 total time=  23.6s\n",
            "[CV 1/3] END C=6, class_weight=balanced, solver=newton-cg;, score=0.757 total time=  33.9s\n",
            "[CV 2/3] END C=6, class_weight=balanced, solver=newton-cg;, score=0.746 total time=  38.4s\n",
            "[CV 3/3] END C=6, class_weight=balanced, solver=newton-cg;, score=0.761 total time=  43.9s\n"
          ]
        },
        {
          "data": {
            "text/plain": [
              "GridSearchCV(cv=3, estimator=LogisticRegression(max_iter=1000, random_state=42),\n",
              "             param_grid={'C': [1, 2, 6], 'class_weight': [None, 'balanced'],\n",
              "                         'solver': ['lbfgs', 'newton-cg']},\n",
              "             scoring='f1', verbose=3)"
            ]
          },
          "execution_count": 40,
          "metadata": {},
          "output_type": "execute_result"
        }
      ],
      "source": [
        "lr_grid_search_cv.fit(bow_full_train, y_full_train)"
      ]
    },
    {
      "cell_type": "code",
      "execution_count": null,
      "metadata": {
        "ExecuteTime": {
          "end_time": "2023-05-22T12:40:29.813925Z",
          "start_time": "2023-05-22T12:40:29.807535Z"
        },
        "id": "gSnYItkFImkY",
        "outputId": "8fa12032-abb2-408d-b974-f21fc571786b"
      },
      "outputs": [
        {
          "name": "stdout",
          "output_type": "stream",
          "text": [
            "Лучший скор F1 на кросс-валидации: 0.769\n",
            "\n",
            "Гиперпараметры лучшей модели: {'C': 2, 'class_weight': None, 'solver': 'lbfgs'}\n"
          ]
        }
      ],
      "source": [
        "print(f'''Лучший скор F1 на кросс-валидации: \\\n",
        "{lr_grid_search_cv.best_score_:.3f}\n",
        "\n",
        "Гиперпараметры лучшей модели: {lr_grid_search_cv.best_params_}''')"
      ]
    },
    {
      "cell_type": "markdown",
      "metadata": {
        "id": "xl5czwEBImkZ"
      },
      "source": [
        "Так как подбирать модель *CatBoost*'а мы будем не с помощью кросс-валидации, а на отложенной валидационной выборке, то и сравнивать логистическую регрессию стоит по скоре на отложенной выборке."
      ]
    },
    {
      "cell_type": "markdown",
      "metadata": {
        "id": "QGnJhaCRImkc"
      },
      "source": [
        "Запишем модель с лучшими гиперпаматреами в переменную `lr_best` и обучим её на тренировочной выборке:"
      ]
    },
    {
      "cell_type": "code",
      "execution_count": null,
      "metadata": {
        "ExecuteTime": {
          "end_time": "2023-05-22T12:40:29.827547Z",
          "start_time": "2023-05-22T12:40:29.819146Z"
        },
        "id": "vCtMHkO1Imkc"
      },
      "outputs": [],
      "source": [
        "lr_best = LogisticRegression(**lr_grid_search_cv.best_params_,\n",
        "                             max_iter=1000,\n",
        "                             random_state=42)"
      ]
    },
    {
      "cell_type": "code",
      "execution_count": null,
      "metadata": {
        "ExecuteTime": {
          "end_time": "2023-05-22T12:40:49.761384Z",
          "start_time": "2023-05-22T12:40:29.830904Z"
        },
        "id": "9R_eOYCtImkc",
        "outputId": "ae2fec5c-66ec-44a8-9894-decfd4377d0b"
      },
      "outputs": [
        {
          "data": {
            "text/plain": [
              "LogisticRegression(C=2, max_iter=1000, random_state=42)"
            ]
          },
          "execution_count": 43,
          "metadata": {},
          "output_type": "execute_result"
        }
      ],
      "source": [
        "lr_best.fit(bow_train, y_train)"
      ]
    },
    {
      "cell_type": "markdown",
      "metadata": {
        "id": "0fErzTTiImkc"
      },
      "source": [
        "Посчитаем скор на валидационной выборке:"
      ]
    },
    {
      "cell_type": "code",
      "execution_count": null,
      "metadata": {
        "ExecuteTime": {
          "end_time": "2023-05-22T12:40:49.813122Z",
          "start_time": "2023-05-22T12:40:49.764614Z"
        },
        "id": "76VCzdMCImkc",
        "outputId": "afd9e6a2-95ef-46b5-98fe-19f111897f25"
      },
      "outputs": [
        {
          "data": {
            "text/plain": [
              "0.766"
            ]
          },
          "execution_count": 44,
          "metadata": {},
          "output_type": "execute_result"
        }
      ],
      "source": [
        "f1_score(y_valid, lr_best.predict(bow_valid)).round(3)"
      ]
    },
    {
      "cell_type": "markdown",
      "metadata": {
        "id": "VSvwiIeGImkc"
      },
      "source": [
        "### *Catboost*"
      ]
    },
    {
      "cell_type": "markdown",
      "metadata": {
        "id": "5xKk0VMJImkd"
      },
      "source": [
        "Попробуем обучить *Catboost* в двух вариантах:\n",
        "1. Просто передадим ему лемматизированный текст как `text_feature`\n",
        "2. Обучим его на мешке слов"
      ]
    },
    {
      "cell_type": "markdown",
      "metadata": {
        "id": "BAP94iZcImkd"
      },
      "source": [
        "#### `text_features`"
      ]
    },
    {
      "cell_type": "markdown",
      "metadata": {
        "id": "TX06Kgm0Imkd"
      },
      "source": [
        "Приведём признаки в понятный для алгоритма формат:"
      ]
    },
    {
      "cell_type": "code",
      "execution_count": null,
      "metadata": {
        "ExecuteTime": {
          "end_time": "2023-05-22T12:40:49.923305Z",
          "start_time": "2023-05-22T12:40:49.816415Z"
        },
        "id": "p1hi-MX3Imkd"
      },
      "outputs": [],
      "source": [
        "train_df = pd.DataFrame({'text_feature': train_corpus})\n",
        "valid_df = pd.DataFrame({'text_feature': valid_corpus})"
      ]
    },
    {
      "cell_type": "markdown",
      "metadata": {
        "id": "Cye-sG3iImkd"
      },
      "source": [
        "Будем оценивать *Catboost* метрикой *F1* и останавливать обучение если метрика не улучшается уже 200 итераций:"
      ]
    },
    {
      "cell_type": "code",
      "execution_count": null,
      "metadata": {
        "ExecuteTime": {
          "end_time": "2023-05-22T12:40:49.935440Z",
          "start_time": "2023-05-22T12:40:49.926155Z"
        },
        "id": "pRPWBHrVImkd"
      },
      "outputs": [],
      "source": [
        "cb_text = CatBoostClassifier(text_features=['text_feature'],\n",
        "                             eval_metric='F1',\n",
        "                             early_stopping_rounds=200,\n",
        "                             verbose=100,\n",
        "                             random_state=42)"
      ]
    },
    {
      "cell_type": "markdown",
      "metadata": {
        "id": "JPkFTCvCImkd"
      },
      "source": [
        "Обучаем *CatBoost* на лемматизированном тексте:"
      ]
    },
    {
      "cell_type": "code",
      "execution_count": null,
      "metadata": {
        "ExecuteTime": {
          "end_time": "2023-05-22T12:44:21.879609Z",
          "start_time": "2023-05-22T12:40:49.938630Z"
        },
        "id": "FvBPdjc_Imkd",
        "outputId": "7163e199-3e5d-4839-d292-c3e5338842d1"
      },
      "outputs": [
        {
          "name": "stdout",
          "output_type": "stream",
          "text": [
            "Learning rate set to 0.097736\n",
            "0:\tlearn: 0.7039864\ttest: 0.7343701\tbest: 0.7343701 (0)\ttotal: 275ms\tremaining: 4m 34s\n",
            "100:\tlearn: 0.7545187\ttest: 0.7581584\tbest: 0.7581584 (100)\ttotal: 23.5s\tremaining: 3m 29s\n",
            "200:\tlearn: 0.7734352\ttest: 0.7673970\tbest: 0.7680675 (167)\ttotal: 47.4s\tremaining: 3m 8s\n",
            "300:\tlearn: 0.7868302\ttest: 0.7693653\tbest: 0.7693653 (300)\ttotal: 1m 15s\tremaining: 2m 54s\n",
            "400:\tlearn: 0.7969291\ttest: 0.7705432\tbest: 0.7714286 (380)\ttotal: 1m 40s\tremaining: 2m 30s\n",
            "500:\tlearn: 0.8041463\ttest: 0.7701928\tbest: 0.7717958 (453)\ttotal: 2m 4s\tremaining: 2m 4s\n",
            "600:\tlearn: 0.8088853\ttest: 0.7721914\tbest: 0.7721914 (599)\ttotal: 2m 28s\tremaining: 1m 38s\n",
            "700:\tlearn: 0.8139508\ttest: 0.7716808\tbest: 0.7725381 (656)\ttotal: 2m 52s\tremaining: 1m 13s\n",
            "800:\tlearn: 0.8177125\ttest: 0.7713051\tbest: 0.7725381 (656)\ttotal: 3m 14s\tremaining: 48.3s\n",
            "Stopped by overfitting detector  (200 iterations wait)\n",
            "\n",
            "bestTest = 0.7725381415\n",
            "bestIteration = 656\n",
            "\n",
            "Shrink model to first 657 iterations.\n"
          ]
        }
      ],
      "source": [
        "cb_text.fit(train_df, y_train, eval_set=(valid_df, y_valid))\n",
        "pass"
      ]
    },
    {
      "cell_type": "markdown",
      "metadata": {
        "id": "iOwhYSwlImke"
      },
      "source": [
        "Лучший скор на валидационной выборке:"
      ]
    },
    {
      "cell_type": "code",
      "execution_count": null,
      "metadata": {
        "ExecuteTime": {
          "end_time": "2023-05-22T12:44:21.902466Z",
          "start_time": "2023-05-22T12:44:21.887351Z"
        },
        "id": "PJWFLD_5Imke",
        "outputId": "21ab4f86-c351-44af-e8a4-e64d5169dc20"
      },
      "outputs": [
        {
          "data": {
            "text/plain": [
              "0.7725"
            ]
          },
          "execution_count": 48,
          "metadata": {},
          "output_type": "execute_result"
        }
      ],
      "source": [
        "round(cb_text.best_score_['validation']['F1'], 4)"
      ]
    },
    {
      "cell_type": "markdown",
      "metadata": {
        "id": "vIhFEiN_Imke"
      },
      "source": [
        "Пока что лучшая модель."
      ]
    },
    {
      "cell_type": "markdown",
      "metadata": {
        "id": "gZYGFRj0Imke"
      },
      "source": [
        "#### Мешок слов"
      ]
    },
    {
      "cell_type": "markdown",
      "metadata": {
        "id": "HgdUHVwhImke"
      },
      "source": [
        "Теперь попробуем обучить *CatBoost* на разреженной матрице частот (мешке слов):"
      ]
    },
    {
      "cell_type": "code",
      "execution_count": null,
      "metadata": {
        "ExecuteTime": {
          "end_time": "2023-05-22T12:44:21.914288Z",
          "start_time": "2023-05-22T12:44:21.908634Z"
        },
        "id": "19zZSr5hImke"
      },
      "outputs": [],
      "source": [
        "cb_bow = CatBoostClassifier(eval_metric='F1', verbose=100, random_state=42)"
      ]
    },
    {
      "cell_type": "code",
      "execution_count": null,
      "metadata": {
        "ExecuteTime": {
          "end_time": "2023-05-22T12:52:57.501554Z",
          "start_time": "2023-05-22T12:44:21.918109Z"
        },
        "id": "dy81TjAPImke",
        "outputId": "a1074a3b-e1e5-47b8-cc41-8d2fa4afddab"
      },
      "outputs": [
        {
          "name": "stdout",
          "output_type": "stream",
          "text": [
            "Learning rate set to 0.097736\n",
            "0:\tlearn: 0.4134330\ttest: 0.4132431\tbest: 0.4132431 (0)\ttotal: 480ms\tremaining: 7m 59s\n",
            "100:\tlearn: 0.6405415\ttest: 0.6386691\tbest: 0.6386691 (100)\ttotal: 50.9s\tremaining: 7m 33s\n",
            "200:\tlearn: 0.7060327\ttest: 0.6947005\tbest: 0.6947005 (200)\ttotal: 1m 39s\tremaining: 6m 35s\n",
            "300:\tlearn: 0.7317897\ttest: 0.7135603\tbest: 0.7135603 (300)\ttotal: 2m 32s\tremaining: 5m 53s\n",
            "400:\tlearn: 0.7491676\ttest: 0.7237282\tbest: 0.7237282 (398)\ttotal: 3m 21s\tremaining: 5m 1s\n",
            "500:\tlearn: 0.7631322\ttest: 0.7332965\tbest: 0.7332965 (497)\ttotal: 4m 6s\tremaining: 4m 5s\n",
            "600:\tlearn: 0.7696704\ttest: 0.7353372\tbest: 0.7359148 (564)\ttotal: 4m 58s\tremaining: 3m 17s\n",
            "700:\tlearn: 0.7719320\ttest: 0.7358974\tbest: 0.7359148 (564)\ttotal: 5m 45s\tremaining: 2m 27s\n",
            "800:\tlearn: 0.7753742\ttest: 0.7377469\tbest: 0.7377469 (779)\ttotal: 6m 37s\tremaining: 1m 38s\n",
            "900:\tlearn: 0.7767143\ttest: 0.7381127\tbest: 0.7383434 (893)\ttotal: 7m 30s\tremaining: 49.5s\n",
            "999:\tlearn: 0.7784902\ttest: 0.7384953\tbest: 0.7385346 (981)\ttotal: 8m 12s\tremaining: 0us\n",
            "\n",
            "bestTest = 0.7385346245\n",
            "bestIteration = 981\n",
            "\n",
            "Shrink model to first 982 iterations.\n"
          ]
        }
      ],
      "source": [
        "cb_bow.fit(bow_train, y_train, eval_set=(bow_valid, y_valid))\n",
        "pass"
      ]
    },
    {
      "cell_type": "markdown",
      "metadata": {
        "id": "cG5hNgxdImkf"
      },
      "source": [
        "Лучший скор на валидационной выборке:"
      ]
    },
    {
      "cell_type": "code",
      "execution_count": null,
      "metadata": {
        "ExecuteTime": {
          "end_time": "2023-05-22T12:52:57.529273Z",
          "start_time": "2023-05-22T12:52:57.509983Z"
        },
        "id": "1JHOyVMSImkf",
        "outputId": "08d11524-65c4-46f1-c60a-0423ea9f5e72"
      },
      "outputs": [
        {
          "data": {
            "text/plain": [
              "0.739"
            ]
          },
          "execution_count": 51,
          "metadata": {},
          "output_type": "execute_result"
        }
      ],
      "source": [
        "round(cb_bow.best_score_['validation']['F1'], 3)"
      ]
    },
    {
      "cell_type": "markdown",
      "metadata": {
        "id": "HY4arshLImkf"
      },
      "source": [
        "Алгоритм, работающий на лемматизированном тексте, показал себя лучше, чем тот, который работал с матрицей частот."
      ]
    },
    {
      "cell_type": "markdown",
      "metadata": {
        "id": "j_G2S1AzImkf"
      },
      "source": [
        "#### Подбор `learning_rate`"
      ]
    },
    {
      "cell_type": "markdown",
      "metadata": {
        "id": "igD19vRtImkf"
      },
      "source": [
        "Попробуем улучшить результат, уменьшив `learning_rate` так, чтобы алгоритм сходился только к концу обучения, к тысячной итерации:"
      ]
    },
    {
      "cell_type": "code",
      "execution_count": null,
      "metadata": {
        "ExecuteTime": {
          "end_time": "2023-05-22T12:52:57.547914Z",
          "start_time": "2023-05-22T12:52:57.538045Z"
        },
        "id": "t8hJduTUImkf"
      },
      "outputs": [],
      "source": [
        "cb_text_2 = CatBoostClassifier(text_features=['text_feature'],\n",
        "                             eval_metric='F1',\n",
        "                             learning_rate=0.03,\n",
        "                             early_stopping_rounds=200,\n",
        "                             verbose=100,\n",
        "                             random_state=42)"
      ]
    },
    {
      "cell_type": "code",
      "execution_count": null,
      "metadata": {
        "ExecuteTime": {
          "end_time": "2023-05-22T12:57:10.976512Z",
          "start_time": "2023-05-22T12:52:57.553244Z"
        },
        "id": "KEATfWRjImkf",
        "outputId": "ccbacdd5-98c6-40be-b9db-6cd93c1c2462"
      },
      "outputs": [
        {
          "name": "stdout",
          "output_type": "stream",
          "text": [
            "0:\tlearn: 0.7039864\ttest: 0.7343701\tbest: 0.7343701 (0)\ttotal: 205ms\tremaining: 3m 24s\n",
            "100:\tlearn: 0.7201882\ttest: 0.7455121\tbest: 0.7458641 (98)\ttotal: 22.4s\tremaining: 3m 19s\n",
            "200:\tlearn: 0.7377303\ttest: 0.7534704\tbest: 0.7534704 (200)\ttotal: 48s\tremaining: 3m 10s\n",
            "300:\tlearn: 0.7504753\ttest: 0.7566901\tbest: 0.7571655 (265)\ttotal: 1m 14s\tremaining: 2m 53s\n",
            "400:\tlearn: 0.7592068\ttest: 0.7596408\tbest: 0.7599577 (388)\ttotal: 1m 42s\tremaining: 2m 32s\n",
            "500:\tlearn: 0.7665606\ttest: 0.7638791\tbest: 0.7638791 (500)\ttotal: 2m 6s\tremaining: 2m 6s\n",
            "600:\tlearn: 0.7723986\ttest: 0.7655620\tbest: 0.7665322 (580)\ttotal: 2m 33s\tremaining: 1m 42s\n",
            "700:\tlearn: 0.7770767\ttest: 0.7677227\tbest: 0.7679103 (691)\ttotal: 2m 56s\tremaining: 1m 15s\n",
            "800:\tlearn: 0.7804031\ttest: 0.7700928\tbest: 0.7700928 (800)\ttotal: 3m 19s\tremaining: 49.5s\n",
            "900:\tlearn: 0.7845886\ttest: 0.7712190\tbest: 0.7712190 (900)\ttotal: 3m 43s\tremaining: 24.5s\n",
            "999:\tlearn: 0.7879805\ttest: 0.7721563\tbest: 0.7722910 (991)\ttotal: 4m 8s\tremaining: 0us\n",
            "\n",
            "bestTest = 0.7722910487\n",
            "bestIteration = 991\n",
            "\n",
            "Shrink model to first 992 iterations.\n"
          ]
        }
      ],
      "source": [
        "cb_text_2.fit(train_df, y_train, eval_set=(valid_df, y_valid))\n",
        "pass"
      ]
    },
    {
      "cell_type": "code",
      "execution_count": null,
      "metadata": {
        "ExecuteTime": {
          "end_time": "2023-05-22T12:57:11.057051Z",
          "start_time": "2023-05-22T12:57:10.982803Z"
        },
        "id": "YPAYUVyHImkf",
        "outputId": "c24f3051-cad7-42ec-ccb8-39271915a3f8"
      },
      "outputs": [
        {
          "data": {
            "text/plain": [
              "0.7723"
            ]
          },
          "execution_count": 54,
          "metadata": {},
          "output_type": "execute_result"
        }
      ],
      "source": [
        "round(cb_text_2.best_score_['validation']['F1'], 4)"
      ]
    },
    {
      "cell_type": "markdown",
      "metadata": {
        "id": "Hesy2LooImkg"
      },
      "source": [
        "Получилось немного хуже, чем с `learning_rate` по умолчанию."
      ]
    },
    {
      "cell_type": "markdown",
      "metadata": {
        "id": "AehwXSf_Imkg"
      },
      "source": [
        "**Вывод:**\n",
        "\n",
        "Градиентный бустинг библиотеки *Catboost*, обученный на лемматизированном тексте, показал себя как лучшая модель. Приступим к подбору порога."
      ]
    },
    {
      "cell_type": "markdown",
      "metadata": {
        "id": "k4mFuYvHImkg"
      },
      "source": [
        "## Подбор порога"
      ]
    },
    {
      "cell_type": "markdown",
      "metadata": {
        "id": "WjV1YC_vImkh"
      },
      "source": [
        "Так как классы в целевом признаки сильно несбалансированны, порог предсказания по умолчанию величиной в 0.5 может отличаться от оптимального для максимизации *F1*.   \n",
        "\n",
        "Может быть этот порог слишком низкий, и тогда уменьшается *Precision*, или слишком высокий, и тогда уменьшается *Recall*.  \n",
        "Экспериментально подберём оптимальный порог на валидационной выборке."
      ]
    },
    {
      "cell_type": "markdown",
      "metadata": {
        "id": "BBB2iIPKImkh"
      },
      "source": [
        "Запишем скоры модели для положительного класса для каждого объекта в переменную `y_scores`:"
      ]
    },
    {
      "cell_type": "code",
      "execution_count": null,
      "metadata": {
        "ExecuteTime": {
          "end_time": "2023-05-22T12:57:12.054722Z",
          "start_time": "2023-05-22T12:57:11.062538Z"
        },
        "id": "uxeET6abImkh"
      },
      "outputs": [],
      "source": [
        "y_scores = cb_text.predict_proba(valid_df)[:, 1]"
      ]
    },
    {
      "cell_type": "markdown",
      "metadata": {
        "id": "CetNBpJKImkh"
      },
      "source": [
        "Всего будет 101 возможных порогов. Будем считать значение метрики *F1* на каждом из них и добавлять его в список `f1_scores`:"
      ]
    },
    {
      "cell_type": "code",
      "execution_count": null,
      "metadata": {
        "ExecuteTime": {
          "end_time": "2023-05-22T12:57:13.374997Z",
          "start_time": "2023-05-22T12:57:12.058648Z"
        },
        "id": "z3KemsC2Imkh"
      },
      "outputs": [],
      "source": [
        "thresholds = np.linspace(0, 1, num=101)\n",
        "f1_scores = []\n",
        "\n",
        "for threshold in thresholds:\n",
        "    # y_pred — булев массив\n",
        "    y_pred = y_scores >= threshold\n",
        "    f1_scores.append(f1_score(y_valid, y_pred))\n",
        "\n",
        "results_df = pd.DataFrame({'threshold': thresholds, 'f1': f1_scores})"
      ]
    },
    {
      "cell_type": "markdown",
      "metadata": {
        "id": "m2YMQPcFImki"
      },
      "source": [
        "Посмотрим на десять лучших порогов по значению метрики *F1*:"
      ]
    },
    {
      "cell_type": "code",
      "execution_count": null,
      "metadata": {
        "ExecuteTime": {
          "end_time": "2023-05-22T12:57:13.410884Z",
          "start_time": "2023-05-22T12:57:13.377625Z"
        },
        "id": "-H9fUYUEImki",
        "outputId": "93cc1ac3-3d95-42e9-c6b5-4a3104afe7e1"
      },
      "outputs": [
        {
          "data": {
            "text/html": [
              "<div>\n",
              "<style scoped>\n",
              "    .dataframe tbody tr th:only-of-type {\n",
              "        vertical-align: middle;\n",
              "    }\n",
              "\n",
              "    .dataframe tbody tr th {\n",
              "        vertical-align: top;\n",
              "    }\n",
              "\n",
              "    .dataframe thead th {\n",
              "        text-align: right;\n",
              "    }\n",
              "</style>\n",
              "<table border=\"1\" class=\"dataframe\">\n",
              "  <thead>\n",
              "    <tr style=\"text-align: right;\">\n",
              "      <th></th>\n",
              "      <th>f1</th>\n",
              "    </tr>\n",
              "    <tr>\n",
              "      <th>threshold</th>\n",
              "      <th></th>\n",
              "    </tr>\n",
              "  </thead>\n",
              "  <tbody>\n",
              "    <tr>\n",
              "      <th>0.37</th>\n",
              "      <td>0.788045</td>\n",
              "    </tr>\n",
              "    <tr>\n",
              "      <th>0.36</th>\n",
              "      <td>0.787333</td>\n",
              "    </tr>\n",
              "    <tr>\n",
              "      <th>0.32</th>\n",
              "      <td>0.786947</td>\n",
              "    </tr>\n",
              "    <tr>\n",
              "      <th>0.34</th>\n",
              "      <td>0.786531</td>\n",
              "    </tr>\n",
              "    <tr>\n",
              "      <th>0.33</th>\n",
              "      <td>0.786301</td>\n",
              "    </tr>\n",
              "    <tr>\n",
              "      <th>0.35</th>\n",
              "      <td>0.786251</td>\n",
              "    </tr>\n",
              "    <tr>\n",
              "      <th>0.31</th>\n",
              "      <td>0.785391</td>\n",
              "    </tr>\n",
              "    <tr>\n",
              "      <th>0.30</th>\n",
              "      <td>0.784630</td>\n",
              "    </tr>\n",
              "    <tr>\n",
              "      <th>0.38</th>\n",
              "      <td>0.784333</td>\n",
              "    </tr>\n",
              "    <tr>\n",
              "      <th>0.39</th>\n",
              "      <td>0.783718</td>\n",
              "    </tr>\n",
              "  </tbody>\n",
              "</table>\n",
              "</div>"
            ],
            "text/plain": [
              "                 f1\n",
              "threshold          \n",
              "0.37       0.788045\n",
              "0.36       0.787333\n",
              "0.32       0.786947\n",
              "0.34       0.786531\n",
              "0.33       0.786301\n",
              "0.35       0.786251\n",
              "0.31       0.785391\n",
              "0.30       0.784630\n",
              "0.38       0.784333\n",
              "0.39       0.783718"
            ]
          },
          "execution_count": 57,
          "metadata": {},
          "output_type": "execute_result"
        }
      ],
      "source": [
        "results_df.set_index('threshold').sort_values(by='f1',\n",
        "                                              ascending=False).head(10)"
      ]
    },
    {
      "cell_type": "markdown",
      "metadata": {
        "id": "U_R2FG7QImki"
      },
      "source": [
        "**Вывод:**\n",
        "\n",
        "Как видим из результатов подбора, для максимизации *F1* порог по умолчанию был слишком высок — модель допускала слишком много ошибок первого рода и тем самым уменьшала *Precision* даже больше, чем увеличивала *Recall*."
      ]
    },
    {
      "cell_type": "markdown",
      "metadata": {
        "id": "aNprddYpImki"
      },
      "source": [
        "Запишем лучший порог в переменную `thresholds`:"
      ]
    },
    {
      "cell_type": "code",
      "execution_count": null,
      "metadata": {
        "ExecuteTime": {
          "end_time": "2023-05-22T12:57:13.426280Z",
          "start_time": "2023-05-22T12:57:13.414790Z"
        },
        "id": "MkAxgDwQImki",
        "outputId": "b6628aca-ead9-453b-aee8-d3aed414b24f"
      },
      "outputs": [
        {
          "data": {
            "text/plain": [
              "0.37"
            ]
          },
          "execution_count": 58,
          "metadata": {},
          "output_type": "execute_result"
        }
      ],
      "source": [
        "threshold = results_df.sort_values(\n",
        "    by='f1', ascending=False).head(1)['threshold'].values[0]\n",
        "threshold"
      ]
    },
    {
      "cell_type": "markdown",
      "metadata": {
        "id": "zPQ8yWx3Imki"
      },
      "source": [
        "Объявим функцию `predict_with_threshold`, предсказывающую целевой признак с помощью переданных ей модели, данных, а также порога."
      ]
    },
    {
      "cell_type": "code",
      "execution_count": null,
      "metadata": {
        "ExecuteTime": {
          "end_time": "2023-05-22T12:57:13.435281Z",
          "start_time": "2023-05-22T12:57:13.429221Z"
        },
        "id": "gWrop8cFImki"
      },
      "outputs": [],
      "source": [
        "def predict_with_threshold(model, X, threshold: float) -> np.array:\n",
        "    '''\n",
        "    Функция предсказыввает целевой признак бинарной классификации по\n",
        "    переданному порогу threshold с помощью модели model на данных X.\n",
        "    Возвращает булев массив.\n",
        "    '''\n",
        "    y_scores = model.predict_proba(X)[:, 1]\n",
        "    return y_scores >= threshold"
      ]
    },
    {
      "cell_type": "markdown",
      "metadata": {
        "id": "vhHNZG37Imkj"
      },
      "source": [
        "Можно переходить к тестированию модели."
      ]
    },
    {
      "cell_type": "markdown",
      "metadata": {
        "id": "czDzT5B8Imkj"
      },
      "source": [
        "## Тестирование модели"
      ]
    },
    {
      "cell_type": "markdown",
      "metadata": {
        "id": "B5QFuUOEImkj"
      },
      "source": [
        "Запишем тестовый корпус в формат датафрейм:"
      ]
    },
    {
      "cell_type": "code",
      "execution_count": null,
      "metadata": {
        "ExecuteTime": {
          "end_time": "2023-05-22T12:57:13.450289Z",
          "start_time": "2023-05-22T12:57:13.438898Z"
        },
        "id": "4g77ZwC1Imkj"
      },
      "outputs": [],
      "source": [
        "test_df = pd.DataFrame({'text_feature': test_corpus})"
      ]
    },
    {
      "cell_type": "markdown",
      "metadata": {
        "id": "UbAUUJ0FImkj"
      },
      "source": [
        "Итак, посчитаем итоговый *F1*-скор модели:"
      ]
    },
    {
      "cell_type": "code",
      "execution_count": null,
      "metadata": {
        "ExecuteTime": {
          "end_time": "2023-05-22T12:57:14.433415Z",
          "start_time": "2023-05-22T12:57:13.454052Z"
        },
        "id": "XkBoamGKImkj",
        "outputId": "4731aa87-850d-4afc-f232-13e8b17087d4"
      },
      "outputs": [
        {
          "data": {
            "text/plain": [
              "0.794"
            ]
          },
          "execution_count": 61,
          "metadata": {},
          "output_type": "execute_result"
        }
      ],
      "source": [
        "round(f1_score(\n",
        "    y_test, predict_with_threshold(cb_text, test_df, threshold)),\n",
        "    3)"
      ]
    },
    {
      "cell_type": "markdown",
      "metadata": {
        "id": "4gzveIXaImkj"
      },
      "source": [
        "Заметно выше чем минимум, установленный заказчиком."
      ]
    },
    {
      "cell_type": "markdown",
      "metadata": {
        "id": "07qDdoRKImkj"
      },
      "source": [
        "## Выводы"
      ]
    },
    {
      "cell_type": "markdown",
      "metadata": {
        "id": "JbPwAqEnImkk"
      },
      "source": [
        "Итак, перед нами стояла задача выбора алгоритма бинарной классификации с текстовыми признаками для предсказания, является ли комментарий токсичным и стоит ли его отправить на модерацию.\n",
        "\n",
        "Сперва мы добавили в датафрейм лемматизированную версию исходных текстов, очищенную от лишних символов.\n",
        "\n",
        "Затем мы разбили датафрейм на тренировочную, валидационную и тестовую выборки в отношении 3:1:1.\n",
        "\n",
        "После этого мы провели три этапа подбора параметров итогового алгоритма на валидационной выборке\n",
        "1. Попробовали три разных метода цифровизации текста: мешок слов, биграммы, `TF-IDF`. Лучшим оказался мешок слов\n",
        "2. Подобрали модель и её гиперпараметры: лучшей оказался градиентный бустинг *Catboost*, обученный на лемматизированных текстах как `text_features`. Мешок слов в итоге не понадобился.\n",
        "3. Подобрали оптимальный порог классификации для оптимизации метрики *F1*: $0.37$\n",
        "\n",
        "**В итоге наш алгоритм классификации набрал значение *F1*-меры величиной в $0.79$, что на четыре сотых больше, чем установленный заказчиком минимум в $0.75$**"
      ]
    }
  ],
  "metadata": {
    "kernelspec": {
      "display_name": "Python 3 (ipykernel)",
      "language": "python",
      "name": "python3"
    },
    "language_info": {
      "codemirror_mode": {
        "name": "ipython",
        "version": 3
      },
      "file_extension": ".py",
      "mimetype": "text/x-python",
      "name": "python",
      "nbconvert_exporter": "python",
      "pygments_lexer": "ipython3",
      "version": "3.9.5"
    },
    "toc": {
      "base_numbering": 1,
      "nav_menu": {},
      "number_sections": true,
      "sideBar": true,
      "skip_h1_title": true,
      "title_cell": "Содержание",
      "title_sidebar": "Contents",
      "toc_cell": true,
      "toc_position": {
        "height": "calc(100% - 180px)",
        "left": "10px",
        "top": "150px",
        "width": "302.378px"
      },
      "toc_section_display": true,
      "toc_window_display": true
    },
    "colab": {
      "provenance": [],
      "toc_visible": true,
      "include_colab_link": true
    }
  },
  "nbformat": 4,
  "nbformat_minor": 0
}